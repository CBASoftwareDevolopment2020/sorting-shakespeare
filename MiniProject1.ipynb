{
 "cells": [
  {
   "cell_type": "code",
   "execution_count": 25,
   "metadata": {
    "ExecuteTime": {
     "end_time": "2020-02-28T16:32:22.748050Z",
     "start_time": "2020-02-28T16:32:22.151016Z"
    },
    "pycharm": {
     "is_executing": false,
     "name": "#%%\n"
    },
    "scrolled": true
   },
   "outputs": [],
   "source": [
    "import random\n",
    "from statistics import mean\n",
    "import pandas as pd\n",
    "from collections import defaultdict\n",
    "from matplotlib import pyplot as plt\n",
    "import numpy as np\n",
    "\n",
    "import MiniProject1\n",
    "import bubble_sort\n",
    "import heap_sort\n",
    "import insertion_sort\n",
    "import merge_sort\n",
    "import quick_sort\n",
    "import selection_sort\n",
    "import trie"
   ]
  },
  {
   "cell_type": "code",
   "execution_count": 2,
   "metadata": {
    "ExecuteTime": {
     "end_time": "2020-02-28T16:32:22.769051Z",
     "start_time": "2020-02-28T16:32:22.749050Z"
    },
    "pycharm": {
     "is_executing": false,
     "name": "#%%\n"
    }
   },
   "outputs": [
    {
     "name": "stdout",
     "output_type": "stream",
     "text": [
      "alphabet        ['_', 'a', 'b', 'c', 'e', 'g', 'h', 'i', 'k', 'l', 'm', 'n', 'o', 'p', 'q', 'r', 's', 't', 'u']\n",
      "original        ['selection_sort', 'insertion_sort', 'heap_sort', 'merge_sort', 'trie', 'bubble_sort', 'quick_sort']\n",
      "reverse         ['quick_sort', 'bubble_sort', 'trie', 'merge_sort', 'heap_sort', 'insertion_sort', 'selection_sort']\n",
      "bubble_sort     ['bubble_sort', 'heap_sort', 'insertion_sort', 'merge_sort', 'quick_sort', 'selection_sort', 'trie']\n",
      "heap_sort       ['bubble_sort', 'heap_sort', 'insertion_sort', 'merge_sort', 'quick_sort', 'selection_sort', 'trie']\n",
      "insertion_sort  ['bubble_sort', 'heap_sort', 'insertion_sort', 'merge_sort', 'quick_sort', 'selection_sort', 'trie']\n",
      "merge_sort      ['bubble_sort', 'heap_sort', 'insertion_sort', 'merge_sort', 'quick_sort', 'selection_sort', 'trie']\n",
      "quick_sort      ['bubble_sort', 'heap_sort', 'insertion_sort', 'merge_sort', 'quick_sort', 'selection_sort', 'trie']\n",
      "3way_quick_sort ['bubble_sort', 'heap_sort', 'insertion_sort', 'merge_sort', 'quick_sort', 'selection_sort', 'trie']\n",
      "selection_sort  ['bubble_sort', 'heap_sort', 'insertion_sort', 'merge_sort', 'quick_sort', 'selection_sort', 'trie']\n",
      "list_trie_sort  ['bubble_sort', 'heap_sort', 'insertion_sort', 'merge_sort', 'quick_sort', 'selection_sort', 'trie']\n",
      "dict_trie_sort  ['bubble_sort', 'heap_sort', 'insertion_sort', 'merge_sort', 'quick_sort', 'selection_sort', 'trie']\n",
      "bubble_sort     ['trie', 'selection_sort', 'quick_sort', 'merge_sort', 'insertion_sort', 'heap_sort', 'bubble_sort']\n",
      "heap_sort       ['trie', 'selection_sort', 'quick_sort', 'merge_sort', 'insertion_sort', 'heap_sort', 'bubble_sort']\n",
      "insertion_sort  ['trie', 'selection_sort', 'quick_sort', 'merge_sort', 'insertion_sort', 'heap_sort', 'bubble_sort']\n",
      "merge_sort      ['trie', 'selection_sort', 'quick_sort', 'merge_sort', 'insertion_sort', 'heap_sort', 'bubble_sort']\n",
      "quick_sort      ['trie', 'selection_sort', 'quick_sort', 'merge_sort', 'insertion_sort', 'heap_sort', 'bubble_sort']\n",
      "3way_quick_sort ['trie', 'selection_sort', 'quick_sort', 'merge_sort', 'insertion_sort', 'heap_sort', 'bubble_sort']\n",
      "selection_sort  ['trie', 'selection_sort', 'quick_sort', 'merge_sort', 'insertion_sort', 'heap_sort', 'bubble_sort']\n",
      "list_trie_sort  ['trie', 'selection_sort', 'quick_sort', 'merge_sort', 'insertion_sort', 'heap_sort', 'bubble_sort']\n",
      "dict_trie_sort  ['trie', 'selection_sort', 'quick_sort', 'merge_sort', 'insertion_sort', 'heap_sort', 'bubble_sort']\n"
     ]
    }
   ],
   "source": [
    "lst = ['selection_sort', 'insertion_sort', 'heap_sort', 'merge_sort', 'trie', 'bubble_sort', 'quick_sort']\n",
    "alphabet = sorted((list(set(''.join(lst)))))\n",
    "\n",
    "print('alphabet'.ljust(15),alphabet)\n",
    "print('original'.ljust(15),lst)\n",
    "print('reverse'.ljust(15),MiniProject1.reverse(lst))\n",
    "print('bubble_sort'.ljust(15),bubble_sort.bubble_sort(lst))\n",
    "print('heap_sort'.ljust(15),heap_sort.heap_sort(lst))\n",
    "print('insertion_sort'.ljust(15),insertion_sort.insertion_sort(lst))\n",
    "print('merge_sort'.ljust(15),merge_sort.merge_sort(lst))\n",
    "print('quick_sort'.ljust(15),quick_sort.quick_sort(lst))\n",
    "print('3way_quick_sort'.ljust(15),quick_sort.quick_sort_3way(lst))\n",
    "print('selection_sort'.ljust(15),selection_sort.selection_sort(lst))\n",
    "print('list_trie_sort'.ljust(15),trie.list_trie_sort(lst,alphabet))\n",
    "print('dict_trie_sort'.ljust(15),trie.dict_trie_sort(lst,alphabet))\n",
    "print('bubble_sort'.ljust(15),bubble_sort.bubble_sort(lst,reverse=True))\n",
    "print('heap_sort'.ljust(15),heap_sort.heap_sort(lst,reverse=True))\n",
    "print('insertion_sort'.ljust(15),insertion_sort.insertion_sort(lst,reverse=True))\n",
    "print('merge_sort'.ljust(15),merge_sort.merge_sort(lst,reverse=True))\n",
    "print('quick_sort'.ljust(15),quick_sort.quick_sort(lst,reverse=True))\n",
    "print('3way_quick_sort'.ljust(15),quick_sort.quick_sort_3way(lst,reverse=True))\n",
    "print('selection_sort'.ljust(15),selection_sort.selection_sort(lst,reverse=True))\n",
    "print('list_trie_sort'.ljust(15),trie.list_trie_sort(lst,alphabet,reverse=True))\n",
    "print('dict_trie_sort'.ljust(15),trie.dict_trie_sort(lst,alphabet,reverse=True))"
   ]
  },
  {
   "cell_type": "code",
   "execution_count": 3,
   "metadata": {
    "ExecuteTime": {
     "end_time": "2020-02-28T16:32:23.226078Z",
     "start_time": "2020-02-28T16:32:22.772052Z"
    },
    "pycharm": {
     "is_executing": false,
     "name": "#%%\n"
    }
   },
   "outputs": [],
   "source": [
    "text = MiniProject1.read_file('shakespeare-complete-works.txt')\n",
    "words = MiniProject1.sanitize_string(text)\n",
    "alphabet = sorted((list(set(''.join(words)))))"
   ]
  },
  {
   "cell_type": "markdown",
   "metadata": {},
   "source": [
    "# Selection Sort"
   ]
  },
  {
   "cell_type": "code",
   "execution_count": 4,
   "metadata": {
    "ExecuteTime": {
     "end_time": "2020-02-28T16:43:05.898836Z",
     "start_time": "2020-02-28T16:32:23.228078Z"
    },
    "pycharm": {
     "is_executing": true,
     "name": "#%%\n"
    }
   },
   "outputs": [
    {
     "name": "stdout",
     "output_type": "stream",
     "text": [
      "selection_sort with 30000 items took 145.27603673934937 seconds\n",
      "selection_sort with 30000 items took 137.50987029075623 seconds\n",
      "selection_sort with 30000 items took 137.36583757400513 seconds\n",
      "selection_sort with 30000 items took 135.98756551742554 seconds\n",
      "selection_sort with 30000 items took 133.30690741539001 seconds\n",
      "selection_sort with 30000 items took 134.24925231933594 seconds\n",
      "selection_sort with 30000 items took 134.33917999267578 seconds\n",
      "selection_sort with 30000 items took 137.66110587120056 seconds\n",
      "selection_sort with 30000 items took 134.19113516807556 seconds\n",
      "selection_sort with 30000 items took 134.54934310913086 seconds\n"
     ]
    }
   ],
   "source": [
    "selection_sort_runtimes = []\n",
    "for _ in range(10):\n",
    "    arr = random.sample(words,k=30_000)\n",
    "    time_elapsed = MiniProject1.time_function(selection_sort.selection_sort,arr)\n",
    "    selection_sort_runtimes.append(time_elapsed)\n",
    "    print(f'selection_sort with {len(arr)} items took {time_elapsed} seconds')"
   ]
  },
  {
   "cell_type": "markdown",
   "metadata": {},
   "source": [
    "# Insertion Sort"
   ]
  },
  {
   "cell_type": "code",
   "execution_count": 5,
   "metadata": {
    "ExecuteTime": {
     "end_time": "2020-02-28T16:51:57.792259Z",
     "start_time": "2020-02-28T16:43:05.900836Z"
    },
    "pycharm": {
     "is_executing": true,
     "name": "#%%\n"
    }
   },
   "outputs": [
    {
     "name": "stdout",
     "output_type": "stream",
     "text": [
      "insertion_sort with 30000 items took 101.52496337890625 seconds\n",
      "insertion_sort with 30000 items took 101.31191110610962 seconds\n",
      "insertion_sort with 30000 items took 102.01908302307129 seconds\n",
      "insertion_sort with 30000 items took 110.55416584014893 seconds\n",
      "insertion_sort with 30000 items took 100.3598530292511 seconds\n",
      "insertion_sort with 30000 items took 101.30678081512451 seconds\n",
      "insertion_sort with 30000 items took 100.79165315628052 seconds\n",
      "insertion_sort with 30000 items took 100.96283173561096 seconds\n",
      "insertion_sort with 30000 items took 102.92517328262329 seconds\n",
      "insertion_sort with 30000 items took 107.78833293914795 seconds\n"
     ]
    }
   ],
   "source": [
    "insertion_sort_runtimes = []\n",
    "for _ in range(10):\n",
    "    arr = random.sample(words,k=30_000)\n",
    "    time_elapsed = MiniProject1.time_function(insertion_sort.insertion_sort,arr)\n",
    "    insertion_sort_runtimes.append(time_elapsed)\n",
    "    print(f'insertion_sort with {len(arr)} items took {time_elapsed} seconds')"
   ]
  },
  {
   "cell_type": "markdown",
   "metadata": {},
   "source": [
    "# Heap Sort"
   ]
  },
  {
   "cell_type": "code",
   "execution_count": 6,
   "metadata": {
    "ExecuteTime": {
     "end_time": "2020-02-28T16:54:03.318439Z",
     "start_time": "2020-02-28T16:51:57.793259Z"
    },
    "pycharm": {
     "is_executing": true,
     "name": "#%%\n"
    }
   },
   "outputs": [
    {
     "name": "stdout",
     "output_type": "stream",
     "text": [
      "heap_sort with 908223 items took 24.338152647018433 seconds\n",
      "heap_sort with 908223 items took 21.419453620910645 seconds\n",
      "heap_sort with 908223 items took 23.47134232521057 seconds\n",
      "heap_sort with 908223 items took 21.334431886672974 seconds\n",
      "heap_sort with 908223 items took 22.535728693008423 seconds\n",
      "heap_sort with 908223 items took 21.787537813186646 seconds\n",
      "heap_sort with 908223 items took 21.244409799575806 seconds\n",
      "heap_sort with 908223 items took 21.139382123947144 seconds\n",
      "heap_sort with 908223 items took 21.311426639556885 seconds\n",
      "heap_sort with 908223 items took 22.57873558998108 seconds\n"
     ]
    }
   ],
   "source": [
    "heap_sort_runtimes = []\n",
    "for _ in range(10):\n",
    "    time_elapsed = MiniProject1.time_function(heap_sort.heap_sort,words)\n",
    "    heap_sort_runtimes.append(time_elapsed)\n",
    "    print(f'heap_sort with {len(words)} items took {time_elapsed} seconds')"
   ]
  },
  {
   "cell_type": "markdown",
   "metadata": {},
   "source": [
    "# Merge Sort"
   ]
  },
  {
   "cell_type": "code",
   "execution_count": 7,
   "metadata": {
    "ExecuteTime": {
     "end_time": "2020-02-28T16:55:17.087658Z",
     "start_time": "2020-02-28T16:54:03.321439Z"
    },
    "pycharm": {
     "is_executing": true,
     "name": "#%%\n"
    }
   },
   "outputs": [
    {
     "name": "stdout",
     "output_type": "stream",
     "text": [
      "merge_sort with 908223 items took 14.797749757766724 seconds\n",
      "merge_sort with 908223 items took 13.36539340019226 seconds\n",
      "merge_sort with 908223 items took 13.0583176612854 seconds\n",
      "merge_sort with 908223 items took 13.016315221786499 seconds\n",
      "merge_sort with 908223 items took 12.954294204711914 seconds\n",
      "merge_sort with 908223 items took 12.888281345367432 seconds\n",
      "merge_sort with 908223 items took 13.207359313964844 seconds\n",
      "merge_sort with 908223 items took 12.87727427482605 seconds\n",
      "merge_sort with 908223 items took 13.013316631317139 seconds\n",
      "merge_sort with 908223 items took 12.940288543701172 seconds\n"
     ]
    }
   ],
   "source": [
    "merge_sort_runtimes = []\n",
    "for _ in range(10):\n",
    "    time_elapsed = MiniProject1.time_function(merge_sort.merge_sort,words)\n",
    "    merge_sort_runtimes.append(time_elapsed)\n",
    "    print(f'merge_sort with {len(words)} items took {time_elapsed} seconds')"
   ]
  },
  {
   "cell_type": "markdown",
   "metadata": {},
   "source": [
    "# Trie Sort with list implementation"
   ]
  },
  {
   "cell_type": "code",
   "execution_count": 71,
   "metadata": {
    "ExecuteTime": {
     "end_time": "2020-02-28T16:56:25.388564Z",
     "start_time": "2020-02-28T16:55:17.089658Z"
    },
    "pycharm": {
     "is_executing": true,
     "name": "#%%\n"
    }
   },
   "outputs": [
    {
     "name": "stdout",
     "output_type": "stream",
     "text": [
      "trie_sort with 908223 items took 12.65021824836731 seconds\n"
     ]
    },
    {
     "ename": "KeyboardInterrupt",
     "evalue": "",
     "output_type": "error",
     "traceback": [
      "\u001b[1;31m---------------------------------------------------------------------------\u001b[0m",
      "\u001b[1;31mKeyboardInterrupt\u001b[0m                         Traceback (most recent call last)",
      "\u001b[1;32m<ipython-input-71-f9f9d97b8808>\u001b[0m in \u001b[0;36m<module>\u001b[1;34m\u001b[0m\n\u001b[0;32m      1\u001b[0m \u001b[0mlist_trie_sort_runtimes\u001b[0m \u001b[1;33m=\u001b[0m \u001b[1;33m[\u001b[0m\u001b[1;33m]\u001b[0m\u001b[1;33m\u001b[0m\u001b[1;33m\u001b[0m\u001b[0m\n\u001b[0;32m      2\u001b[0m \u001b[1;32mfor\u001b[0m \u001b[0m_\u001b[0m \u001b[1;32min\u001b[0m \u001b[0mrange\u001b[0m\u001b[1;33m(\u001b[0m\u001b[1;36m10\u001b[0m\u001b[1;33m)\u001b[0m\u001b[1;33m:\u001b[0m\u001b[1;33m\u001b[0m\u001b[1;33m\u001b[0m\u001b[0m\n\u001b[1;32m----> 3\u001b[1;33m     \u001b[0mtime_elapsed\u001b[0m \u001b[1;33m=\u001b[0m \u001b[0mMiniProject1\u001b[0m\u001b[1;33m.\u001b[0m\u001b[0mtime_function\u001b[0m\u001b[1;33m(\u001b[0m\u001b[0mtrie\u001b[0m\u001b[1;33m.\u001b[0m\u001b[0mlist_trie_sort\u001b[0m\u001b[1;33m,\u001b[0m\u001b[0mwords\u001b[0m\u001b[1;33m,\u001b[0m\u001b[0malphabet\u001b[0m\u001b[1;33m=\u001b[0m\u001b[0malphabet\u001b[0m\u001b[1;33m)\u001b[0m\u001b[1;33m\u001b[0m\u001b[1;33m\u001b[0m\u001b[0m\n\u001b[0m\u001b[0;32m      4\u001b[0m     \u001b[0mlist_trie_sort_runtimes\u001b[0m\u001b[1;33m.\u001b[0m\u001b[0mappend\u001b[0m\u001b[1;33m(\u001b[0m\u001b[0mtime_elapsed\u001b[0m\u001b[1;33m)\u001b[0m\u001b[1;33m\u001b[0m\u001b[1;33m\u001b[0m\u001b[0m\n\u001b[0;32m      5\u001b[0m     \u001b[0mprint\u001b[0m\u001b[1;33m(\u001b[0m\u001b[1;34mf'trie_sort with {len(words)} items took {time_elapsed} seconds'\u001b[0m\u001b[1;33m)\u001b[0m\u001b[1;33m\u001b[0m\u001b[1;33m\u001b[0m\u001b[0m\n",
      "\u001b[1;32m~\\Dropbox\\CPHbusiness\\Software\\Hand-ins\\Sem1\\Algorithms\\MiniProject1-SortingShakespeare\\MiniProject1.py\u001b[0m in \u001b[0;36mtime_function\u001b[1;34m(function, arr, timeout, **kwargs)\u001b[0m\n\u001b[0;32m     40\u001b[0m         \u001b[0mstart\u001b[0m \u001b[1;33m=\u001b[0m \u001b[0mtime\u001b[0m\u001b[1;33m.\u001b[0m\u001b[0mtime\u001b[0m\u001b[1;33m(\u001b[0m\u001b[1;33m)\u001b[0m\u001b[1;33m\u001b[0m\u001b[1;33m\u001b[0m\u001b[0m\n\u001b[0;32m     41\u001b[0m         \u001b[1;32mif\u001b[0m \u001b[0malphabet\u001b[0m\u001b[1;33m:\u001b[0m\u001b[1;33m\u001b[0m\u001b[1;33m\u001b[0m\u001b[0m\n\u001b[1;32m---> 42\u001b[1;33m             \u001b[0mfunction\u001b[0m\u001b[1;33m(\u001b[0m\u001b[0marr\u001b[0m\u001b[1;33m,\u001b[0m \u001b[0malphabet\u001b[0m\u001b[1;33m,\u001b[0m \u001b[0mreverse\u001b[0m\u001b[1;33m=\u001b[0m\u001b[0mreverse\u001b[0m\u001b[1;33m)\u001b[0m\u001b[1;33m\u001b[0m\u001b[1;33m\u001b[0m\u001b[0m\n\u001b[0m\u001b[0;32m     43\u001b[0m         \u001b[1;32melse\u001b[0m\u001b[1;33m:\u001b[0m\u001b[1;33m\u001b[0m\u001b[1;33m\u001b[0m\u001b[0m\n\u001b[0;32m     44\u001b[0m             \u001b[0mfunction\u001b[0m\u001b[1;33m(\u001b[0m\u001b[0marr\u001b[0m\u001b[1;33m,\u001b[0m \u001b[0mreverse\u001b[0m\u001b[1;33m=\u001b[0m\u001b[0mreverse\u001b[0m\u001b[1;33m)\u001b[0m\u001b[1;33m\u001b[0m\u001b[1;33m\u001b[0m\u001b[0m\n",
      "\u001b[1;32m~\\Dropbox\\CPHbusiness\\Software\\Hand-ins\\Sem1\\Algorithms\\MiniProject1-SortingShakespeare\\trie.py\u001b[0m in \u001b[0;36mlist_trie_sort\u001b[1;34m(arr, alphabet, reverse)\u001b[0m\n\u001b[0;32m     74\u001b[0m     \u001b[0mdata\u001b[0m \u001b[1;33m=\u001b[0m \u001b[0marr\u001b[0m\u001b[1;33m[\u001b[0m\u001b[1;33m:\u001b[0m\u001b[1;33m]\u001b[0m\u001b[1;33m\u001b[0m\u001b[1;33m\u001b[0m\u001b[0m\n\u001b[0;32m     75\u001b[0m     \u001b[1;32mif\u001b[0m \u001b[0mreverse\u001b[0m\u001b[1;33m:\u001b[0m\u001b[1;33m\u001b[0m\u001b[1;33m\u001b[0m\u001b[0m\n\u001b[1;32m---> 76\u001b[1;33m         \u001b[0malphabet\u001b[0m \u001b[1;33m=\u001b[0m \u001b[0mMiniProject1\u001b[0m\u001b[1;33m.\u001b[0m\u001b[0mreverse\u001b[0m\u001b[1;33m(\u001b[0m\u001b[0malphabet\u001b[0m\u001b[1;33m)\u001b[0m\u001b[1;33m\u001b[0m\u001b[1;33m\u001b[0m\u001b[0m\n\u001b[0m\u001b[0;32m     77\u001b[0m     \u001b[0mtrie\u001b[0m \u001b[1;33m=\u001b[0m \u001b[0mListTrie\u001b[0m\u001b[1;33m(\u001b[0m\u001b[0malphabet\u001b[0m\u001b[1;33m)\u001b[0m\u001b[1;33m\u001b[0m\u001b[1;33m\u001b[0m\u001b[0m\n\u001b[0;32m     78\u001b[0m     \u001b[1;32mfor\u001b[0m \u001b[0mitem\u001b[0m \u001b[1;32min\u001b[0m \u001b[0mdata\u001b[0m\u001b[1;33m:\u001b[0m\u001b[1;33m\u001b[0m\u001b[1;33m\u001b[0m\u001b[0m\n",
      "\u001b[1;32m~\\Dropbox\\CPHbusiness\\Software\\Hand-ins\\Sem1\\Algorithms\\MiniProject1-SortingShakespeare\\trie.py\u001b[0m in \u001b[0;36minsert\u001b[1;34m(self, key, value)\u001b[0m\n\u001b[0;32m     24\u001b[0m     \u001b[1;32mdef\u001b[0m \u001b[0minsert\u001b[0m\u001b[1;33m(\u001b[0m\u001b[0mself\u001b[0m\u001b[1;33m,\u001b[0m \u001b[0mkey\u001b[0m\u001b[1;33m:\u001b[0m \u001b[0mstr\u001b[0m\u001b[1;33m,\u001b[0m \u001b[0mvalue\u001b[0m\u001b[1;33m:\u001b[0m \u001b[0mobject\u001b[0m\u001b[1;33m)\u001b[0m\u001b[1;33m:\u001b[0m\u001b[1;33m\u001b[0m\u001b[1;33m\u001b[0m\u001b[0m\n\u001b[0;32m     25\u001b[0m         \u001b[0mnode\u001b[0m \u001b[1;33m=\u001b[0m \u001b[0mself\u001b[0m\u001b[1;33m.\u001b[0m\u001b[0mroot\u001b[0m\u001b[1;33m\u001b[0m\u001b[1;33m\u001b[0m\u001b[0m\n\u001b[1;32m---> 26\u001b[1;33m         \u001b[1;32mfor\u001b[0m \u001b[0mchar\u001b[0m \u001b[1;32min\u001b[0m \u001b[0mkey\u001b[0m\u001b[1;33m:\u001b[0m\u001b[1;33m\u001b[0m\u001b[1;33m\u001b[0m\u001b[0m\n\u001b[0m\u001b[0;32m     27\u001b[0m             \u001b[1;32mif\u001b[0m \u001b[0mtype\u001b[0m\u001b[1;33m(\u001b[0m\u001b[0mnode\u001b[0m\u001b[1;33m.\u001b[0m\u001b[0mchildren\u001b[0m\u001b[1;33m[\u001b[0m\u001b[0mself\u001b[0m\u001b[1;33m.\u001b[0m\u001b[0mindex_of\u001b[0m\u001b[1;33m(\u001b[0m\u001b[0mchar\u001b[0m\u001b[1;33m)\u001b[0m\u001b[1;33m]\u001b[0m\u001b[1;33m)\u001b[0m \u001b[1;32mis\u001b[0m \u001b[1;32mnot\u001b[0m \u001b[0mListNode\u001b[0m\u001b[1;33m:\u001b[0m\u001b[1;33m\u001b[0m\u001b[1;33m\u001b[0m\u001b[0m\n\u001b[0;32m     28\u001b[0m                 \u001b[0mnode\u001b[0m\u001b[1;33m.\u001b[0m\u001b[0mchildren\u001b[0m\u001b[1;33m[\u001b[0m\u001b[0mself\u001b[0m\u001b[1;33m.\u001b[0m\u001b[0mindex_of\u001b[0m\u001b[1;33m(\u001b[0m\u001b[0mchar\u001b[0m\u001b[1;33m)\u001b[0m\u001b[1;33m]\u001b[0m \u001b[1;33m=\u001b[0m \u001b[0mListNode\u001b[0m\u001b[1;33m(\u001b[0m\u001b[0mself\u001b[0m\u001b[1;33m.\u001b[0m\u001b[0malphabet\u001b[0m\u001b[1;33m)\u001b[0m\u001b[1;33m\u001b[0m\u001b[1;33m\u001b[0m\u001b[0m\n",
      "\u001b[1;31mKeyboardInterrupt\u001b[0m: "
     ]
    }
   ],
   "source": [
    "list_trie_sort_runtimes = []\n",
    "for _ in range(10):\n",
    "    time_elapsed = MiniProject1.time_function(trie.list_trie_sort,words,alphabet=alphabet)\n",
    "    list_trie_sort_runtimes.append(time_elapsed)\n",
    "    print(f'trie_sort with {len(words)} items took {time_elapsed} seconds')"
   ]
  },
  {
   "cell_type": "markdown",
   "metadata": {},
   "source": [
    "# Trie Sort with dict implementation"
   ]
  },
  {
   "cell_type": "code",
   "execution_count": 9,
   "metadata": {
    "ExecuteTime": {
     "end_time": "2020-02-28T16:56:44.170639Z",
     "start_time": "2020-02-28T16:56:25.390565Z"
    },
    "pycharm": {
     "is_executing": true,
     "name": "#%%\n"
    }
   },
   "outputs": [
    {
     "name": "stdout",
     "output_type": "stream",
     "text": [
      "trie_sort with 908223 items took 4.329096555709839 seconds\n",
      "trie_sort with 908223 items took 3.9800119400024414 seconds\n",
      "trie_sort with 908223 items took 3.9119911193847656 seconds\n",
      "trie_sort with 908223 items took 3.9169974327087402 seconds\n",
      "trie_sort with 908223 items took 3.6669349670410156 seconds\n",
      "trie_sort with 908223 items took 3.7559592723846436 seconds\n",
      "trie_sort with 908223 items took 4.536127805709839 seconds\n",
      "trie_sort with 908223 items took 3.8939883708953857 seconds\n",
      "trie_sort with 908223 items took 3.856976270675659 seconds\n",
      "trie_sort with 908223 items took 3.788961410522461 seconds\n"
     ]
    }
   ],
   "source": [
    "dict_trie_sort_runtimes = []\n",
    "for _ in range(10):\n",
    "    time_elapsed = MiniProject1.time_function(trie.dict_trie_sort,words,alphabet=alphabet)\n",
    "    dict_trie_sort_runtimes.append(time_elapsed)\n",
    "    print(f'trie_sort with {len(words)} items took {time_elapsed} seconds')"
   ]
  },
  {
   "cell_type": "markdown",
   "metadata": {},
   "source": [
    "# Bubble Sort"
   ]
  },
  {
   "cell_type": "code",
   "execution_count": 10,
   "metadata": {
    "ExecuteTime": {
     "end_time": "2020-02-28T17:17:07.067584Z",
     "start_time": "2020-02-28T16:56:44.171639Z"
    },
    "pycharm": {
     "is_executing": true,
     "name": "#%%\n"
    }
   },
   "outputs": [
    {
     "name": "stdout",
     "output_type": "stream",
     "text": [
      "bubble_sort with 30000 items took 231.4428973197937 seconds\n",
      "bubble_sort with 30000 items took 232.32106137275696 seconds\n",
      "bubble_sort with 30000 items took 229.86359882354736 seconds\n",
      "bubble_sort with 30000 items took 235.95406937599182 seconds\n",
      "bubble_sort with 30000 items took 228.6401653289795 seconds\n",
      "bubble_sort with 30000 items took 227.95213055610657 seconds\n",
      "bubble_sort with 30000 items took 226.34274411201477 seconds\n",
      "bubble_sort with 30000 items took 228.08618712425232 seconds\n",
      "bubble_sort with 30000 items took 227.1368260383606 seconds\n",
      "bubble_sort with 30000 items took 228.90939736366272 seconds\n"
     ]
    }
   ],
   "source": [
    "bubble_sort_runtimes = []\n",
    "for _ in range(10):\n",
    "    arr = random.sample(words,k=30_000)\n",
    "    time_elapsed = MiniProject1.time_function(bubble_sort.bubble_sort,arr)\n",
    "    bubble_sort_runtimes.append(time_elapsed)\n",
    "    print(f'bubble_sort with {len(arr)} items took {time_elapsed} seconds')"
   ]
  },
  {
   "cell_type": "markdown",
   "metadata": {},
   "source": [
    "# Quick Sort\n"
   ]
  },
  {
   "cell_type": "code",
   "execution_count": 11,
   "metadata": {
    "ExecuteTime": {
     "end_time": "2020-02-28T17:17:55.821373Z",
     "start_time": "2020-02-28T17:17:07.069585Z"
    },
    "pycharm": {
     "is_executing": true,
     "name": "#%%\n"
    }
   },
   "outputs": [
    {
     "name": "stdout",
     "output_type": "stream",
     "text": [
      "quick_sort with 90000 items took 8.401270151138306 seconds\n",
      "quick_sort with 90000 items took 8.052036046981812 seconds\n",
      "quick_sort with 90000 items took 7.882044792175293 seconds\n",
      "quick_sort with 90000 items took 7.939014196395874 seconds\n",
      "quick_sort with 90000 items took 7.751973390579224 seconds\n",
      "quick_sort with 90000 items took 7.983029842376709 seconds\n",
      "quick_sort with 90000 items took 7.792982578277588 seconds\n",
      "quick_sort with 90000 items took 8.19208025932312 seconds\n",
      "quick_sort with 90000 items took 9.033417463302612 seconds\n",
      "quick_sort with 90000 items took 7.910141468048096 seconds\n"
     ]
    }
   ],
   "source": [
    "quick_sort_runtimes = []\n",
    "for _ in range(10):\n",
    "    # may run into\n",
    "    # maximum recursion depth exceeded while calling a Python object\n",
    "    # for bigger datasets\n",
    "    arr = random.sample(words,k=90_000)\n",
    "    time_elapsed = MiniProject1.time_function(quick_sort.quick_sort,arr)\n",
    "    quick_sort_runtimes.append(time_elapsed)\n",
    "    print(f'quick_sort with {len(arr)} items took {time_elapsed} seconds')"
   ]
  },
  {
   "cell_type": "markdown",
   "metadata": {},
   "source": [
    "# 3way Quick Sort"
   ]
  },
  {
   "cell_type": "code",
   "execution_count": 12,
   "metadata": {
    "ExecuteTime": {
     "end_time": "2020-02-28T17:18:20.265771Z",
     "start_time": "2020-02-28T17:17:55.822373Z"
    },
    "pycharm": {
     "is_executing": true,
     "name": "#%%\n"
    }
   },
   "outputs": [
    {
     "name": "stdout",
     "output_type": "stream",
     "text": [
      "quick_sort with 908223 items took 5.0542824268341064 seconds\n",
      "quick_sort with 908223 items took 5.084294080734253 seconds\n",
      "quick_sort with 908223 items took 5.042286157608032 seconds\n",
      "quick_sort with 908223 items took 5.041273355484009 seconds\n",
      "quick_sort with 908223 items took 5.0412797927856445 seconds\n",
      "quick_sort with 908223 items took 4.690188407897949 seconds\n",
      "quick_sort with 908223 items took 4.698192596435547 seconds\n",
      "quick_sort with 908223 items took 4.89024543762207 seconds\n",
      "quick_sort with 908223 items took 4.80422043800354 seconds\n",
      "quick_sort with 908223 items took 5.058284759521484 seconds\n"
     ]
    }
   ],
   "source": [
    "quick_sort_3way_runtimes = []\n",
    "for _ in range(10):\n",
    "    time_elapsed = MiniProject1.time_function(quick_sort.quick_sort_3way,words)\n",
    "    quick_sort_3way_runtimes.append(time_elapsed)\n",
    "    print(f'quick_sort with {len(words)} items took {time_elapsed} seconds')"
   ]
  },
  {
   "cell_type": "code",
   "execution_count": 13,
   "metadata": {
    "ExecuteTime": {
     "end_time": "2020-02-28T17:23:03.761986Z",
     "start_time": "2020-02-28T17:23:03.754986Z"
    },
    "pycharm": {
     "is_executing": true,
     "name": "#%%\n"
    }
   },
   "outputs": [
    {
     "name": "stdout",
     "output_type": "stream",
     "text": [
      "bubble_sort     mean runtime with   30000 items was 229.66490774154664 seconds\n",
      "selection_sort  mean runtime with   30000 items was 136.4436233997345 seconds\n",
      "insertion_sort  mean runtime with   30000 items was 102.95447483062745 seconds\n",
      "-\n",
      "quick_sort      mean runtime with   90000 items was 8.093799018859864 seconds\n",
      "-\n",
      "heap_sort       mean runtime with  908223 items was 22.11606011390686 seconds\n",
      "merge_sort      mean runtime with  908223 items was 13.211859035491944 seconds\n",
      "list_trie_sort  mean runtime with  908223 items was 12.10770583152771 seconds\n",
      "quick_sort_3way mean runtime with  908223 items was 4.940454745292664 seconds\n",
      "dict_trie_sort  mean runtime with  908223 items was 3.963704514503479 seconds\n"
     ]
    }
   ],
   "source": [
    "print(f'bubble_sort     mean runtime with {str(30_000).rjust(7)} items was {mean(bubble_sort_runtimes)} seconds')\n",
    "print(f'selection_sort  mean runtime with {str(30_000).rjust(7)} items was {mean(selection_sort_runtimes)} seconds')\n",
    "print(f'insertion_sort  mean runtime with {str(30_000).rjust(7)} items was {mean(insertion_sort_runtimes)} seconds')\n",
    "print('-')\n",
    "print(f'quick_sort      mean runtime with {str(90_000).rjust(7)} items was {mean(quick_sort_runtimes)} seconds')\n",
    "print('-')\n",
    "print(f'heap_sort       mean runtime with {str(len(words)).rjust(7)} items was {mean(heap_sort_runtimes)} seconds')\n",
    "print(f'merge_sort      mean runtime with {str(len(words)).rjust(7)} items was {mean(merge_sort_runtimes)} seconds')\n",
    "print(f'list_trie_sort  mean runtime with {str(len(words)).rjust(7)} items was {mean(list_trie_sort_runtimes)} seconds')\n",
    "print(f'quick_sort_3way mean runtime with {str(len(words)).rjust(7)} items was {mean(quick_sort_3way_runtimes)} seconds')\n",
    "print(f'dict_trie_sort  mean runtime with {str(len(words)).rjust(7)} items was {mean(dict_trie_sort_runtimes)} seconds')"
   ]
  },
  {
   "cell_type": "markdown",
   "metadata": {},
   "source": [
    "![loglog-plot](sorting-runtimes.png)\n"
   ]
  },
  {
   "cell_type": "code",
   "execution_count": 73,
   "metadata": {},
   "outputs": [
    {
     "ename": "ValueError",
     "evalue": "Unable to determine number of fit parameters.",
     "output_type": "error",
     "traceback": [
      "\u001b[1;31m---------------------------------------------------------------------------\u001b[0m",
      "\u001b[1;31mValueError\u001b[0m                                Traceback (most recent call last)",
      "\u001b[1;32m<ipython-input-73-8fe7727b7138>\u001b[0m in \u001b[0;36m<module>\u001b[1;34m\u001b[0m\n\u001b[0;32m     38\u001b[0m \u001b[1;31m#         fit = np.poly1d(coef)\u001b[0m\u001b[1;33m\u001b[0m\u001b[1;33m\u001b[0m\u001b[1;33m\u001b[0m\u001b[0m\n\u001b[0;32m     39\u001b[0m \u001b[1;31m#         n = np.log(len(words))\u001b[0m\u001b[1;33m\u001b[0m\u001b[1;33m\u001b[0m\u001b[1;33m\u001b[0m\u001b[0m\n\u001b[1;32m---> 40\u001b[1;33m         \u001b[0mpopt\u001b[0m\u001b[1;33m,\u001b[0m \u001b[0mpcov\u001b[0m \u001b[1;33m=\u001b[0m \u001b[0mcurve_fit\u001b[0m\u001b[1;33m(\u001b[0m\u001b[0mnlogn\u001b[0m\u001b[1;33m,\u001b[0m\u001b[0mx\u001b[0m\u001b[1;33m,\u001b[0m\u001b[0my\u001b[0m\u001b[1;33m,\u001b[0m \u001b[0mbounds\u001b[0m\u001b[1;33m=\u001b[0m\u001b[1;33m(\u001b[0m\u001b[1;36m0\u001b[0m\u001b[1;33m,\u001b[0m\u001b[1;36m1_000_000\u001b[0m\u001b[1;33m)\u001b[0m\u001b[1;33m)\u001b[0m\u001b[1;33m\u001b[0m\u001b[1;33m\u001b[0m\u001b[0m\n\u001b[0m\u001b[0;32m     41\u001b[0m         \u001b[0mprint\u001b[0m\u001b[1;33m(\u001b[0m\u001b[0mpopt\u001b[0m\u001b[1;33m,\u001b[0m\u001b[0mpcov\u001b[0m\u001b[1;33m)\u001b[0m\u001b[1;33m\u001b[0m\u001b[1;33m\u001b[0m\u001b[0m\n\u001b[0;32m     42\u001b[0m \u001b[1;33m\u001b[0m\u001b[0m\n",
      "\u001b[1;32mC:\\ProgramData\\Anaconda3\\lib\\site-packages\\scipy\\optimize\\minpack.py\u001b[0m in \u001b[0;36mcurve_fit\u001b[1;34m(f, xdata, ydata, p0, sigma, absolute_sigma, check_finite, bounds, method, jac, **kwargs)\u001b[0m\n\u001b[0;32m    681\u001b[0m         \u001b[0margs\u001b[0m\u001b[1;33m,\u001b[0m \u001b[0mvarargs\u001b[0m\u001b[1;33m,\u001b[0m \u001b[0mvarkw\u001b[0m\u001b[1;33m,\u001b[0m \u001b[0mdefaults\u001b[0m \u001b[1;33m=\u001b[0m \u001b[0m_getargspec\u001b[0m\u001b[1;33m(\u001b[0m\u001b[0mf\u001b[0m\u001b[1;33m)\u001b[0m\u001b[1;33m\u001b[0m\u001b[1;33m\u001b[0m\u001b[0m\n\u001b[0;32m    682\u001b[0m         \u001b[1;32mif\u001b[0m \u001b[0mlen\u001b[0m\u001b[1;33m(\u001b[0m\u001b[0margs\u001b[0m\u001b[1;33m)\u001b[0m \u001b[1;33m<\u001b[0m \u001b[1;36m2\u001b[0m\u001b[1;33m:\u001b[0m\u001b[1;33m\u001b[0m\u001b[1;33m\u001b[0m\u001b[0m\n\u001b[1;32m--> 683\u001b[1;33m             \u001b[1;32mraise\u001b[0m \u001b[0mValueError\u001b[0m\u001b[1;33m(\u001b[0m\u001b[1;34m\"Unable to determine number of fit parameters.\"\u001b[0m\u001b[1;33m)\u001b[0m\u001b[1;33m\u001b[0m\u001b[1;33m\u001b[0m\u001b[0m\n\u001b[0m\u001b[0;32m    684\u001b[0m         \u001b[0mn\u001b[0m \u001b[1;33m=\u001b[0m \u001b[0mlen\u001b[0m\u001b[1;33m(\u001b[0m\u001b[0margs\u001b[0m\u001b[1;33m)\u001b[0m \u001b[1;33m-\u001b[0m \u001b[1;36m1\u001b[0m\u001b[1;33m\u001b[0m\u001b[1;33m\u001b[0m\u001b[0m\n\u001b[0;32m    685\u001b[0m     \u001b[1;32melse\u001b[0m\u001b[1;33m:\u001b[0m\u001b[1;33m\u001b[0m\u001b[1;33m\u001b[0m\u001b[0m\n",
      "\u001b[1;31mValueError\u001b[0m: Unable to determine number of fit parameters."
     ]
    }
   ],
   "source": [
    "from scipy.optimize import curve_fit\n",
    "n2 = lambda n: n * n\n",
    "nlogn = lambda n: n*np.log(n)\n",
    "\n",
    "functions = ['dict_trie_sort','quick_sort_3way','list_trie_sort','merge_sort','heap_sort',\n",
    "             'quick_sort','insertion_sort','selection_sort','bubble_sort']\n",
    "n2 = ['insertion_sort','selection_sort','bubble_sort']\n",
    "df = pd.read_csv('sorting-runtimes.csv')\n",
    "\n",
    "times_dict = {func: defaultdict(list) for func in functions}\n",
    "\n",
    "for idx, row in df.iterrows():\n",
    "    if row['Algorithm'] not in functions:\n",
    "        continue\n",
    "    times_dict[row['Algorithm']][row['Data size']].append(row['Runtime'])\n",
    "\n",
    "xys_dict = {func: MiniProject1.get_values(times_dict[func]) for func in functions}\n",
    "\n",
    "algs = []\n",
    "algs_reverse = []\n",
    "\n",
    "for alg, xys in xys_dict.items():\n",
    "    if 'reversed_' in alg:\n",
    "        algs_reverse.append(alg)\n",
    "    else:\n",
    "        algs.append(alg)\n",
    "\n",
    "for alg in algs:\n",
    "    x,y = xys_dict[alg]\n",
    "    if alg in n2:\n",
    "#         coef = np.polyfit(x,y,2)\n",
    "#         fit = np.poly1d(coef)\n",
    "#         n = len(words)\n",
    "        popt, pcov = curve_fit(n2, x, y, bounds=(0,1_000_000))\n",
    "        print(popt,pcov)\n",
    "    else:\n",
    "#         coef = np.polyfit(np.log(x),y,1)\n",
    "#         fit = np.poly1d(coef)\n",
    "#         n = np.log(len(words))\n",
    "        popt, pcov = curve_fit(nlogn,x,y, bounds=(0,1_000_000))\n",
    "        print(popt,pcov)\n",
    "    \n",
    "    secs = fit(n)\n",
    "    hours = secs / 60 / 60\n",
    "    mins = hours % 1 * 60\n",
    "    hours = int(hours)\n",
    "    secs = mins % 1 * 60\n",
    "    mins = int(mins)\n",
    "    millis = int(secs % 1 * 1000)\n",
    "    secs = int(secs)\n",
    "    print(alg.ljust(15),str(hours).rjust(2)+':'+str(mins).rjust(2)+':'+str(secs).rjust(2)+'.'+str(millis))"
   ]
  }
 ],
 "metadata": {
  "kernelspec": {
   "display_name": "Python 3",
   "language": "python",
   "name": "python3"
  },
  "language_info": {
   "codemirror_mode": {
    "name": "ipython",
    "version": 3
   },
   "file_extension": ".py",
   "mimetype": "text/x-python",
   "name": "python",
   "nbconvert_exporter": "python",
   "pygments_lexer": "ipython3",
   "version": "3.7.4"
  },
  "pycharm": {
   "stem_cell": {
    "cell_type": "raw",
    "metadata": {
     "collapsed": false
    },
    "source": []
   }
  },
  "varInspector": {
   "cols": {
    "lenName": 16,
    "lenType": 16,
    "lenVar": 40
   },
   "kernels_config": {
    "python": {
     "delete_cmd_postfix": "",
     "delete_cmd_prefix": "del ",
     "library": "var_list.py",
     "varRefreshCmd": "print(var_dic_list())"
    },
    "r": {
     "delete_cmd_postfix": ") ",
     "delete_cmd_prefix": "rm(",
     "library": "var_list.r",
     "varRefreshCmd": "cat(var_dic_list()) "
    }
   },
   "types_to_exclude": [
    "module",
    "function",
    "builtin_function_or_method",
    "instance",
    "_Feature"
   ],
   "window_display": false
  }
 },
 "nbformat": 4,
 "nbformat_minor": 4
}
