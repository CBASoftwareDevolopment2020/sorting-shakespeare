{
 "cells": [
  {
   "cell_type": "code",
   "execution_count": 1,
   "metadata": {
    "ExecuteTime": {
     "end_time": "2020-02-18T21:18:04.234125Z",
     "start_time": "2020-02-18T21:18:03.632091Z"
    },
    "pycharm": {
     "is_executing": false,
     "name": "#%%\n"
    },
    "scrolled": true
   },
   "outputs": [],
   "source": [
    "import random\n",
    "from statistics import mean\n",
    "\n",
    "import MiniProject1\n",
    "import bubble_sort\n",
    "import heap_sort\n",
    "import insertion_sort\n",
    "import merge_sort\n",
    "import quick_sort\n",
    "import selection_sort\n",
    "import trie"
   ]
  },
  {
   "cell_type": "code",
   "execution_count": 2,
   "outputs": [
    {
     "name": "stdout",
     "text": [
      "alphabet        ['_', 'a', 'b', 'c', 'e', 'g', 'h', 'i', 'k', 'l', 'm', 'n', 'o', 'p', 'q', 'r', 's', 't', 'u']\n",
      "original        ['selection_sort', 'insertion_sort', 'heap_sort', 'merge_sort', 'trie', 'bubble_sort', 'quick_sort']\n",
      "reverse         ['quick_sort', 'bubble_sort', 'trie', 'merge_sort', 'heap_sort', 'insertion_sort', 'selection_sort']\n",
      "bubble_sort     ['bubble_sort', 'heap_sort', 'insertion_sort', 'merge_sort', 'quick_sort', 'selection_sort', 'trie']\n",
      "heap_sort       ['bubble_sort', 'heap_sort', 'insertion_sort', 'merge_sort', 'quick_sort', 'selection_sort', 'trie']\n",
      "insertion_sort  ['bubble_sort', 'heap_sort', 'insertion_sort', 'merge_sort', 'quick_sort', 'selection_sort', 'trie']\n",
      "merge_sort      ['bubble_sort', 'heap_sort', 'insertion_sort', 'merge_sort', 'quick_sort', 'selection_sort', 'trie']\n",
      "quick_sort      ['bubble_sort', 'heap_sort', 'insertion_sort', 'merge_sort', 'quick_sort', 'selection_sort', 'trie']\n",
      "3way_quick_sort ['bubble_sort', 'heap_sort', 'insertion_sort', 'merge_sort', 'quick_sort', 'selection_sort', 'trie']\n",
      "selection_sort  ['bubble_sort', 'heap_sort', 'insertion_sort', 'merge_sort', 'quick_sort', 'selection_sort', 'trie']\n",
      "list_trie_sort  ['bubble_sort', 'heap_sort', 'insertion_sort', 'merge_sort', 'quick_sort', 'selection_sort', 'trie']\n",
      "dict_trie_sort  ['bubble_sort', 'heap_sort', 'insertion_sort', 'merge_sort', 'quick_sort', 'selection_sort', 'trie']\n",
      "bubble_sort     ['trie', 'selection_sort', 'quick_sort', 'merge_sort', 'insertion_sort', 'heap_sort', 'bubble_sort']\n",
      "heap_sort       ['trie', 'selection_sort', 'quick_sort', 'merge_sort', 'insertion_sort', 'heap_sort', 'bubble_sort']\n",
      "insertion_sort  ['trie', 'selection_sort', 'quick_sort', 'merge_sort', 'insertion_sort', 'heap_sort', 'bubble_sort']\n",
      "merge_sort      ['trie', 'selection_sort', 'quick_sort', 'merge_sort', 'insertion_sort', 'heap_sort', 'bubble_sort']\n",
      "quick_sort      ['trie', 'selection_sort', 'quick_sort', 'merge_sort', 'insertion_sort', 'heap_sort', 'bubble_sort']\n",
      "3way_quick_sort ['trie', 'selection_sort', 'quick_sort', 'merge_sort', 'insertion_sort', 'heap_sort', 'bubble_sort']\n",
      "selection_sort  ['trie', 'selection_sort', 'quick_sort', 'merge_sort', 'insertion_sort', 'heap_sort', 'bubble_sort']\n",
      "list_trie_sort  ['trie', 'selection_sort', 'quick_sort', 'merge_sort', 'insertion_sort', 'heap_sort', 'bubble_sort']\n",
      "dict_trie_sort  ['trie', 'selection_sort', 'quick_sort', 'merge_sort', 'insertion_sort', 'heap_sort', 'bubble_sort']\n"
     ],
     "output_type": "stream"
    }
   ],
   "source": [
    "lst = ['selection_sort', 'insertion_sort', 'heap_sort', 'merge_sort', 'trie', 'bubble_sort', 'quick_sort']\n",
    "alphabet = sorted((list(set(''.join(lst)))))\n",
    "\n",
    "print('alphabet'.ljust(15),alphabet)\n",
    "print('original'.ljust(15),lst)\n",
    "print('reverse'.ljust(15),MiniProject1.reverse(lst))\n",
    "print('bubble_sort'.ljust(15),bubble_sort.bubble_sort(lst))\n",
    "print('heap_sort'.ljust(15),heap_sort.heap_sort(lst))\n",
    "print('insertion_sort'.ljust(15),insertion_sort.insertion_sort(lst))\n",
    "print('merge_sort'.ljust(15),merge_sort.merge_sort(lst))\n",
    "print('quick_sort'.ljust(15),quick_sort.quick_sort(lst))\n",
    "print('3way_quick_sort'.ljust(15),quick_sort.quick_sort_3way(lst))\n",
    "print('selection_sort'.ljust(15),selection_sort.selection_sort(lst))\n",
    "print('list_trie_sort'.ljust(15),trie.list_trie_sort(lst,alphabet))\n",
    "print('dict_trie_sort'.ljust(15),trie.dict_trie_sort(lst,alphabet))\n",
    "print('bubble_sort'.ljust(15),bubble_sort.bubble_sort(lst,reverse=True))\n",
    "print('heap_sort'.ljust(15),heap_sort.heap_sort(lst,reverse=True))\n",
    "print('insertion_sort'.ljust(15),insertion_sort.insertion_sort(lst,reverse=True))\n",
    "print('merge_sort'.ljust(15),merge_sort.merge_sort(lst,reverse=True))\n",
    "print('quick_sort'.ljust(15),quick_sort.quick_sort(lst,reverse=True))\n",
    "print('3way_quick_sort'.ljust(15),quick_sort.quick_sort_3way(lst,reverse=True))\n",
    "print('selection_sort'.ljust(15),selection_sort.selection_sort(lst,reverse=True))\n",
    "print('list_trie_sort'.ljust(15),trie.list_trie_sort(lst,alphabet,reverse=True))\n",
    "print('dict_trie_sort'.ljust(15),trie.dict_trie_sort(lst,alphabet,reverse=True))"
   ],
   "metadata": {
    "collapsed": false,
    "pycharm": {
     "name": "#%%\n",
     "is_executing": false
    }
   }
  },
  {
   "cell_type": "code",
   "execution_count": 3,
   "outputs": [],
   "source": [
    "text = MiniProject1.read_file('shakespeare-complete-works.txt')\n",
    "words = MiniProject1.sanitize_string(text)\n",
    "alphabet = sorted((list(set(''.join(words)))))"
   ],
   "metadata": {
    "collapsed": false,
    "pycharm": {
     "name": "#%%\n",
     "is_executing": false
    }
   }
  },
  {
   "cell_type": "markdown",
   "source": [
    "# Selection Sort"
   ],
   "metadata": {
    "collapsed": false
   }
  },
  {
   "cell_type": "code",
   "execution_count": null,
   "outputs": [],
   "source": [
    "selection_sort_runtimes = []\n",
    "for _ in range(10):\n",
    "    arr = random.sample(words,k=30_000)\n",
    "    time_elapsed = MiniProject1.time_function(selection_sort.selection_sort,arr)\n",
    "    selection_sort_runtimes.append(time_elapsed)\n",
    "    print(f'selection_sort with {len(arr)} items took {time_elapsed} seconds')"
   ],
   "metadata": {
    "collapsed": false,
    "pycharm": {
     "name": "#%%\n",
     "is_executing": true
    }
   }
  },
  {
   "cell_type": "markdown",
   "source": [
    "# Insertion Sort"
   ],
   "metadata": {
    "collapsed": false
   }
  },
  {
   "cell_type": "code",
   "execution_count": null,
   "outputs": [],
   "source": [
    "insertion_sort_runtimes = []\n",
    "for _ in range(10):\n",
    "    arr = random.sample(words,k=30_000)\n",
    "    time_elapsed = MiniProject1.time_function(insertion_sort.insertion_sort,arr)\n",
    "    insertion_sort_runtimes.append(time_elapsed)\n",
    "    print(f'insertion_sort with {len(arr)} items took {time_elapsed} seconds')"
   ],
   "metadata": {
    "collapsed": false,
    "pycharm": {
     "name": "#%%\n",
     "is_executing": true
    }
   }
  },
  {
   "cell_type": "markdown",
   "source": [
    "# Heap Sort"
   ],
   "metadata": {
    "collapsed": false
   }
  },
  {
   "cell_type": "code",
   "execution_count": null,
   "outputs": [],
   "source": [
    "heap_sort_runtimes = []\n",
    "for _ in range(10):\n",
    "    time_elapsed = MiniProject1.time_function(heap_sort.heap_sort,words)\n",
    "    heap_sort_runtimes.append(time_elapsed)\n",
    "    print(f'heap_sort with {len(words)} items took {time_elapsed} seconds')"
   ],
   "metadata": {
    "collapsed": false,
    "pycharm": {
     "name": "#%%\n",
     "is_executing": true
    }
   }
  },
  {
   "cell_type": "markdown",
   "source": [
    "# Merge Sort"
   ],
   "metadata": {
    "collapsed": false
   }
  },
  {
   "cell_type": "code",
   "execution_count": null,
   "outputs": [],
   "source": [
    "merge_sort_runtimes = []\n",
    "for _ in range(10):\n",
    "    time_elapsed = MiniProject1.time_function(merge_sort.merge_sort,words)\n",
    "    merge_sort_runtimes.append(time_elapsed)\n",
    "    print(f'merge_sort with {len(words)} items took {time_elapsed} seconds')"
   ],
   "metadata": {
    "collapsed": false,
    "pycharm": {
     "name": "#%%\n",
     "is_executing": true
    }
   }
  },
  {
   "cell_type": "markdown",
   "source": [
    "# Trie Sort with list implementation"
   ],
   "metadata": {
    "collapsed": false
   }
  },
  {
   "cell_type": "code",
   "execution_count": null,
   "outputs": [],
   "source": [
    "list_trie_sort_runtimes = []\n",
    "for _ in range(10):\n",
    "    time_elapsed = MiniProject1.time_function(trie.list_trie_sort,words,alphabet=alphabet)\n",
    "    list_trie_sort_runtimes.append(time_elapsed)\n",
    "    print(f'trie_sort with {len(words)} items took {time_elapsed} seconds')"
   ],
   "metadata": {
    "collapsed": false,
    "pycharm": {
     "name": "#%%\n",
     "is_executing": true
    }
   }
  },
  {
   "cell_type": "markdown",
   "source": [
    "# Trie Sort with dict implementation"
   ],
   "metadata": {
    "collapsed": false
   }
  },
  {
   "cell_type": "code",
   "execution_count": null,
   "outputs": [],
   "source": [
    "dict_trie_sort_runtimes = []\n",
    "for _ in range(10):\n",
    "    time_elapsed = MiniProject1.time_function(trie.dict_trie_sort,words,alphabet=alphabet)\n",
    "    dict_trie_sort_runtimes.append(time_elapsed)\n",
    "    print(f'trie_sort with {len(words)} items took {time_elapsed} seconds')"
   ],
   "metadata": {
    "collapsed": false,
    "pycharm": {
     "name": "#%%\n",
     "is_executing": true
    }
   }
  },
  {
   "cell_type": "markdown",
   "source": [
    "# Bubble Sort"
   ],
   "metadata": {
    "collapsed": false
   }
  },
  {
   "cell_type": "code",
   "execution_count": null,
   "outputs": [],
   "source": [
    "bubble_sort_runtimes = []\n",
    "for _ in range(10):\n",
    "    arr = random.sample(words,k=30_000)\n",
    "    time_elapsed = MiniProject1.time_function(bubble_sort.bubble_sort,arr)\n",
    "    bubble_sort_runtimes.append(time_elapsed)\n",
    "    print(f'bubble_sort with {len(arr)} items took {time_elapsed} seconds')"
   ],
   "metadata": {
    "collapsed": false,
    "pycharm": {
     "name": "#%%\n",
     "is_executing": true
    }
   }
  },
  {
   "cell_type": "markdown",
   "source": [
    "# Quick Sort\n"
   ],
   "metadata": {
    "collapsed": false
   }
  },
  {
   "cell_type": "code",
   "execution_count": null,
   "outputs": [],
   "source": [
    "quick_sort_runtimes = []\n",
    "for _ in range(10):\n",
    "    # my run into\n",
    "    # maximum recursion depth exceeded while calling a Python object\n",
    "    # for bigger datasets\n",
    "    arr = random.sample(words,k=90_000)\n",
    "    time_elapsed = MiniProject1.time_function(quick_sort.quick_sort,arr)\n",
    "    quick_sort_runtimes.append(time_elapsed)\n",
    "    print(f'quick_sort with {len(arr)} items took {time_elapsed} seconds')"
   ],
   "metadata": {
    "collapsed": false,
    "pycharm": {
     "name": "#%%\n",
     "is_executing": true
    }
   }
  },
  {
   "cell_type": "markdown",
   "source": [
    "# 3way Quick Sort"
   ],
   "metadata": {
    "collapsed": false
   }
  },
  {
   "cell_type": "code",
   "execution_count": null,
   "outputs": [],
   "source": [
    "quick_sort_3way_runtimes = []\n",
    "for _ in range(10):\n",
    "    time_elapsed = MiniProject1.time_function(quick_sort.quick_sort_3way,words)\n",
    "    quick_sort_3way_runtimes.append(time_elapsed)\n",
    "    print(f'quick_sort with {len(words)} items took {time_elapsed} seconds')"
   ],
   "metadata": {
    "collapsed": false,
    "pycharm": {
     "name": "#%%\n",
     "is_executing": true
    }
   }
  },
  {
   "cell_type": "code",
   "execution_count": null,
   "outputs": [],
   "source": [
    "print(f'selection_sort mean runtime with {30_000} items was {mean(selection_sort_runtimes)} seconds')\n",
    "print(f'insertion_sort mean runtime with {30_000} items was {mean(insertion_sort_runtimes)} seconds')\n",
    "print(f'heap_sort mean runtime with {len(words)} items was {mean(heap_sort_runtimes)} seconds')\n",
    "print(f'merge_sort mean runtime with {len(words)} items was {mean(merge_sort_runtimes)} seconds')\n",
    "print(f'list_trie_sort mean runtime with {len(words)} items was {mean(list_trie_sort_runtimes)} seconds')\n",
    "print(f'dict_trie_sort mean runtime with {len(words)} items was {mean(dict_trie_sort_runtimes)} seconds')\n",
    "print(f'bubble_sort mean runtime with {30_000} items was {mean(bubble_sort_runtimes)} seconds')\n",
    "print(f'quick_sort mean runtime with {len(arr)} items was {mean(quick_sort_runtimes)} seconds')\n",
    "print(f'quick_sort_3way mean runtime with {len(words)} items was {mean(quick_sort_3way_runtimes)} seconds')"
   ],
   "metadata": {
    "collapsed": false,
    "pycharm": {
     "name": "#%%\n",
     "is_executing": true
    }
   }
  },
  {
   "cell_type": "markdown",
   "source": [
    "![loglog-plot](sorting-runtimes.png)\n"
   ],
   "metadata": {
    "collapsed": false
   }
  }
 ],
 "metadata": {
  "kernelspec": {
   "display_name": "Python 3",
   "language": "python",
   "name": "python3"
  },
  "language_info": {
   "codemirror_mode": {
    "name": "ipython",
    "version": 3
   },
   "file_extension": ".py",
   "mimetype": "text/x-python",
   "name": "python",
   "nbconvert_exporter": "python",
   "pygments_lexer": "ipython3",
   "version": "3.7.4"
  },
  "pycharm": {
   "stem_cell": {
    "cell_type": "raw",
    "source": [],
    "metadata": {
     "collapsed": false
    }
   }
  },
  "varInspector": {
   "cols": {
    "lenName": 16,
    "lenType": 16,
    "lenVar": 40
   },
   "kernels_config": {
    "python": {
     "delete_cmd_postfix": "",
     "delete_cmd_prefix": "del ",
     "library": "var_list.py",
     "varRefreshCmd": "print(var_dic_list())"
    },
    "r": {
     "delete_cmd_postfix": ") ",
     "delete_cmd_prefix": "rm(",
     "library": "var_list.r",
     "varRefreshCmd": "cat(var_dic_list()) "
    }
   },
   "types_to_exclude": [
    "module",
    "function",
    "builtin_function_or_method",
    "instance",
    "_Feature"
   ],
   "window_display": false
  }
 },
 "nbformat": 4,
 "nbformat_minor": 4
}